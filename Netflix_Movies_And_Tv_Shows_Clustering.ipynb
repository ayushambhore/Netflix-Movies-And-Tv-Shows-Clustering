{
  "nbformat": 4,
  "nbformat_minor": 0,
  "metadata": {
    "colab": {
      "private_outputs": true,
      "provenance": [],
      "collapsed_sections": [
        "vncDsAP0Gaoa",
        "FJNUwmbgGyua",
        "w6K7xa23Elo4",
        "yQaldy8SH6Dl",
        "mDgbUHAGgjLW",
        "O_i_v8NEhb9l",
        "HhfV-JJviCcP",
        "Y3lxredqlCYt",
        "3RnN4peoiCZX",
        "x71ZqKXriCWQ",
        "7hBIi_osiCS2",
        "JlHwYmJAmNHm",
        "35m5QtbWiB9F",
        "PoPl-ycgm1ru",
        "H0kj-8xxnORC",
        "nA9Y7ga8ng1Z",
        "PBTbrJXOngz2",
        "u3PMJOP6ngxN",
        "dauF4eBmngu3",
        "bKJF3rekwFvQ",
        "MSa1f5Uengrz",
        "GF8Ens_Soomf",
        "0wOQAZs5pc--",
        "K5QZ13OEpz2H",
        "lQ7QKXXCp7Bj",
        "448CDAPjqfQr",
        "KSlN3yHqYklG",
        "t6dVpIINYklI",
        "ijmpgYnKYklI",
        "-JiQyfWJYklI",
        "EM7whBJCYoAo",
        "fge-S5ZAYoAp",
        "85gYPyotYoAp",
        "RoGjAbkUYoAp",
        "4Of9eVA-YrdM",
        "iky9q4vBYrdO",
        "F6T5p64dYrdO",
        "y-Ehk30pYrdP",
        "bamQiAODYuh1",
        "QHF8YVU7Yuh3",
        "GwzvFGzlYuh3",
        "qYpmQ266Yuh3",
        "OH-pJp9IphqM",
        "bbFf2-_FphqN",
        "_ouA3fa0phqN",
        "Seke61FWphqN",
        "PIIx-8_IphqN",
        "t27r6nlMphqO",
        "r2jJGEOYphqO",
        "b0JNsNcRphqO",
        "BZR9WyysphqO",
        "jj7wYXLtphqO",
        "eZrbJ2SmphqO",
        "rFu4xreNphqO",
        "YJ55k-q6phqO",
        "gCFgpxoyphqP",
        "OVtJsKN_phqQ",
        "lssrdh5qphqQ",
        "U2RJ9gkRphqQ",
        "1M8mcRywphqQ",
        "tgIPom80phqQ",
        "JMzcOPDDphqR",
        "x-EpHcCOp1ci",
        "X_VqEhTip1ck",
        "8zGJKyg5p1ck",
        "PVzmfK_Ep1ck",
        "n3dbpmDWp1ck",
        "ylSl6qgtp1ck",
        "ZWILFDl5p1ck",
        "M7G43BXep1ck",
        "Ag9LCva-p1cl",
        "E6MkPsBcp1cl",
        "2cELzS2fp1cl",
        "3MPXvC8up1cl",
        "NC_X3p0fY2L0",
        "UV0SzAkaZNRQ",
        "YPEH6qLeZNRQ",
        "q29F0dvdveiT",
        "EXh0U9oCveiU",
        "22aHeOlLveiV",
        "g-ATYxFrGrvw",
        "Yfr_Vlr8HBkt",
        "8yEUt7NnHlrM",
        "tEA2Xm5dHt1r",
        "I79__PHVH19G",
        "Ou-I18pAyIpj",
        "fF3858GYyt-u",
        "4_0_7-oCpUZd",
        "hwyV_J3ipUZe",
        "3yB-zSqbpUZe",
        "dEUvejAfpUZe",
        "Fd15vwWVpUZf",
        "bn_IUdTipZyH",
        "49K5P_iCpZyH",
        "Nff-vKELpZyI",
        "kLW572S8pZyI",
        "dWbDXHzopZyI",
        "yLjJCtPM0KBk",
        "xiyOF9F70UgQ",
        "7wuGOrhz0itI",
        "id1riN9m0vUs",
        "578E2V7j08f6",
        "89xtkJwZ18nB",
        "67NQN5KX2AMe",
        "Iwf50b-R2tYG",
        "GMQiZwjn3iu7",
        "WVIkgGqN3qsr",
        "XkPnILGE3zoT",
        "Hlsf0x5436Go",
        "mT9DMSJo4nBL",
        "c49ITxTc407N",
        "OeJFEK0N496M",
        "9ExmJH0g5HBk",
        "cJNqERVU536h",
        "k5UmGsbsOxih",
        "T0VqWOYE6DLQ",
        "qBMux9mC6MCf",
        "-oLEiFgy-5Pf",
        "C74aWNz2AliB",
        "2DejudWSA-a0",
        "pEMng2IbBLp7",
        "rAdphbQ9Bhjc",
        "TNVZ9zx19K6k",
        "nqoHp30x9hH9",
        "rMDnDkt2B6du",
        "yiiVWRdJDDil",
        "1UUpS68QDMuG",
        "kexQrXU-DjzY",
        "T5CmagL3EC8N",
        "BhH2vgX9EjGr",
        "qjKvONjwE8ra",
        "P1XJ9OREExlT",
        "VFOzZv6IFROw",
        "TIqpNgepFxVj",
        "VfCC591jGiD4",
        "OB4l2ZhMeS1U",
        "ArJBuiUVfxKd",
        "4qY1EAkEfxKe",
        "PiV4Ypx8fxKe",
        "TfvqoZmBfxKf",
        "dJ2tPlVmpsJ0",
        "JWYfwnehpsJ1",
        "-jK_YjpMpsJ2",
        "HAih1iBOpsJ2",
        "zVGeBEFhpsJ2",
        "bmKjuQ-FpsJ3",
        "Fze-IPXLpx6K",
        "7AN1z2sKpx6M",
        "9PIHJqyupx6M",
        "_-qAgymDpx6N",
        "Z-hykwinpx6N",
        "h_CCil-SKHpo",
        "cBFFvTBNJzUa",
        "HvGl1hHyA_VK",
        "EyNgTHvd2WFk",
        "KH5McJBi2d8v",
        "iW_Lq9qf2h6X",
        "-Kee-DAl2viO",
        "gCX9965dhzqZ",
        "gIfDvo9L0UH2"
      ],
      "include_colab_link": true
    },
    "kernelspec": {
      "name": "python3",
      "display_name": "Python 3"
    },
    "language_info": {
      "name": "python"
    }
  },
  "cells": [
    {
      "cell_type": "markdown",
      "metadata": {
        "id": "view-in-github",
        "colab_type": "text"
      },
      "source": [
        "<a href=\"https://colab.research.google.com/github/ayushambhore/Netflix-Movies-And-Tv-Shows-Clustering/blob/main/Netflix_Movies_And_Tv_Shows_Clustering.ipynb\" target=\"_parent\"><img src=\"https://colab.research.google.com/assets/colab-badge.svg\" alt=\"Open In Colab\"/></a>"
      ]
    },
    {
      "cell_type": "markdown",
      "source": [
        "# **Project Name**    - Netflix Movies And Tv Shows Clustering\n",
        "\n"
      ],
      "metadata": {
        "id": "vncDsAP0Gaoa"
      }
    },
    {
      "cell_type": "markdown",
      "source": [
        "##### **Project Type**    - Unsupervised\n",
        "##### **Contribution**    - Individual\n",
        "##### **Name -** Ayush Ambhore\n"
      ],
      "metadata": {
        "id": "beRrZCGUAJYm"
      }
    },
    {
      "cell_type": "markdown",
      "source": [
        "# **Project Summary -**"
      ],
      "metadata": {
        "id": "FJNUwmbgGyua"
      }
    },
    {
      "cell_type": "markdown",
      "source": [
        "Write the summary here within 500-600 words."
      ],
      "metadata": {
        "id": "F6v_1wHtG2nS"
      }
    },
    {
      "cell_type": "markdown",
      "source": [
        "# **GitHub Link -**"
      ],
      "metadata": {
        "id": "w6K7xa23Elo4"
      }
    },
    {
      "cell_type": "markdown",
      "source": [
        "https://github.com/ayushambhore/Netflix-Movies-And-Tv-Shows-Clustering"
      ],
      "metadata": {
        "id": "h1o69JH3Eqqn"
      }
    },
    {
      "cell_type": "markdown",
      "source": [
        "# **Problem Statement**\n"
      ],
      "metadata": {
        "id": "yQaldy8SH6Dl"
      }
    },
    {
      "cell_type": "markdown",
      "source": [
        "**Write Problem Statement Here.**"
      ],
      "metadata": {
        "id": "DpeJGUA3kjGy"
      }
    },
    {
      "cell_type": "markdown",
      "source": [
        "# **General Guidelines** : -  "
      ],
      "metadata": {
        "id": "mDgbUHAGgjLW"
      }
    },
    {
      "cell_type": "markdown",
      "source": [
        "1.   Well-structured, formatted, and commented code is required.\n",
        "2.   Exception Handling, Production Grade Code & Deployment Ready Code will be a plus. Those students will be awarded some additional credits.\n",
        "     \n",
        "     The additional credits will have advantages over other students during Star Student selection.\n",
        "       \n",
        "             [ Note: - Deployment Ready Code is defined as, the whole .ipynb notebook should be executable in one go\n",
        "                       without a single error logged. ]\n",
        "\n",
        "3.   Each and every logic should have proper comments.\n",
        "4. You may add as many number of charts you want. Make Sure for each and every chart the following format should be answered.\n",
        "        \n",
        "\n",
        "```\n",
        "# Chart visualization code\n",
        "```\n",
        "            \n",
        "\n",
        "*   Why did you pick the specific chart?\n",
        "*   What is/are the insight(s) found from the chart?\n",
        "* Will the gained insights help creating a positive business impact?\n",
        "Are there any insights that lead to negative growth? Justify with specific reason.\n",
        "\n",
        "5. You have to create at least 15 logical & meaningful charts having important insights.\n",
        "\n",
        "\n",
        "[ Hints : - Do the Vizualization in  a structured way while following \"UBM\" Rule.\n",
        "\n",
        "U - Univariate Analysis,\n",
        "\n",
        "B - Bivariate Analysis (Numerical - Categorical, Numerical - Numerical, Categorical - Categorical)\n",
        "\n",
        "M - Multivariate Analysis\n",
        " ]\n",
        "\n",
        "\n",
        "\n",
        "\n",
        "\n",
        "6. You may add more ml algorithms for model creation. Make sure for each and every algorithm, the following format should be answered.\n",
        "\n",
        "\n",
        "*   Explain the ML Model used and it's performance using Evaluation metric Score Chart.\n",
        "\n",
        "\n",
        "*   Cross- Validation & Hyperparameter Tuning\n",
        "\n",
        "*   Have you seen any improvement? Note down the improvement with updates Evaluation metric Score Chart.\n",
        "\n",
        "*   Explain each evaluation metric's indication towards business and the business impact pf the ML model used.\n",
        "\n",
        "\n",
        "\n",
        "\n",
        "\n",
        "\n",
        "\n",
        "\n",
        "\n",
        "\n",
        "\n",
        "\n",
        "\n",
        "\n",
        "\n",
        "\n",
        "\n",
        "\n"
      ],
      "metadata": {
        "id": "ZrxVaUj-hHfC"
      }
    },
    {
      "cell_type": "markdown",
      "source": [
        "# ***Let's Begin !***"
      ],
      "metadata": {
        "id": "O_i_v8NEhb9l"
      }
    },
    {
      "cell_type": "markdown",
      "source": [
        "## ***1. Know Your Data***"
      ],
      "metadata": {
        "id": "HhfV-JJviCcP"
      }
    },
    {
      "cell_type": "markdown",
      "source": [
        "### Import Libraries"
      ],
      "metadata": {
        "id": "Y3lxredqlCYt"
      }
    },
    {
      "cell_type": "code",
      "source": [
        "# Important modules\n",
        "import pandas as pd\n",
        "import numpy as np\n",
        "\n",
        "#visulizaiton modules\n",
        "import matplotlib\n",
        "import matplotlib.pyplot as plt\n",
        "import seaborn as sns\n",
        "import missingno as msno\n",
        "import matplotlib.cm as cm\n",
        "import geopandas as gpd\n",
        "!pip install country_converter --upgrade\n",
        "import country_converter as coco\n",
        "import plotly.express as px\n",
        "\n",
        "#import string module\n",
        "import string\n",
        "string.punctuation\n",
        "\n",
        "#import stats module\n",
        "from scipy import stats\n",
        "\n",
        "#nlp module\n",
        "from sklearn.feature_extraction.text import CountVectorizer, TfidfVectorizer\n",
        "from wordcloud import WordCloud, STOPWORDS, ImageColorGenerator\n",
        "from nltk.tokenize import word_tokenize\n",
        "from nltk.stem import WordNetLemmatizer\n",
        "from nltk.corpus import stopwords\n",
        "from nltk.stem.snowball import SnowballStemmer\n",
        "from nltk.tokenize import TweetTokenizer\n",
        "from sklearn.metrics.pairwise import cosine_similarity\n",
        "\n",
        "#import fundamental models\n",
        "from sklearn.decomposition import PCA\n",
        "from sklearn.metrics import silhouette_score,silhouette_samples\n",
        "from sklearn.cluster import KMeans\n",
        "import scipy.cluster.hierarchy as shc\n",
        "from sklearn.cluster import AgglomerativeClustering\n",
        "from yellowbrick.cluster import SilhouetteVisualizer\n",
        "\n",
        "#import warnings\n",
        "import warnings\n",
        "warnings.filterwarnings('ignore')"
      ],
      "metadata": {
        "id": "M8Vqi-pPk-HR"
      },
      "execution_count": null,
      "outputs": []
    },
    {
      "cell_type": "markdown",
      "source": [
        "### Dataset Loading"
      ],
      "metadata": {
        "id": "3RnN4peoiCZX"
      }
    },
    {
      "cell_type": "code",
      "source": [
        "# Load Dataset\n",
        "url = 'https://raw.githubusercontent.com/ayushambhore/Netflix-Movies-And-Tv-Shows-Clustering/main/NETFLIX%20MOVIES%20AND%20TV%20SHOWS%20CLUSTERING.csv'\n",
        "df = pd.read_csv(url)"
      ],
      "metadata": {
        "id": "4CkvbW_SlZ_R"
      },
      "execution_count": null,
      "outputs": []
    },
    {
      "cell_type": "markdown",
      "source": [
        "### Dataset First View"
      ],
      "metadata": {
        "id": "x71ZqKXriCWQ"
      }
    },
    {
      "cell_type": "code",
      "source": [
        "# Dataset First Look\n",
        "df.head()"
      ],
      "metadata": {
        "id": "LWNFOSvLl09H"
      },
      "execution_count": null,
      "outputs": []
    },
    {
      "cell_type": "markdown",
      "source": [
        "### Dataset Rows & Columns count"
      ],
      "metadata": {
        "id": "7hBIi_osiCS2"
      }
    },
    {
      "cell_type": "code",
      "source": [
        "# Dataset Rows & Columns count\n",
        "print(f' Row count = {df.shape[0]}\\n Column count = {df.shape[1]}')"
      ],
      "metadata": {
        "id": "Kllu7SJgmLij"
      },
      "execution_count": null,
      "outputs": []
    },
    {
      "cell_type": "markdown",
      "source": [
        "### Dataset Information"
      ],
      "metadata": {
        "id": "JlHwYmJAmNHm"
      }
    },
    {
      "cell_type": "code",
      "source": [
        "# Dataset Info\n",
        "df.info()"
      ],
      "metadata": {
        "id": "e9hRXRi6meOf"
      },
      "execution_count": null,
      "outputs": []
    },
    {
      "cell_type": "markdown",
      "source": [
        "#### Duplicate Values"
      ],
      "metadata": {
        "id": "35m5QtbWiB9F"
      }
    },
    {
      "cell_type": "code",
      "source": [
        "# Dataset Duplicate Value Count\n",
        "len(df[df.duplicated()])"
      ],
      "metadata": {
        "id": "1sLdpKYkmox0"
      },
      "execution_count": null,
      "outputs": []
    },
    {
      "cell_type": "markdown",
      "source": [
        "#### Missing Values/Null Values"
      ],
      "metadata": {
        "id": "PoPl-ycgm1ru"
      }
    },
    {
      "cell_type": "code",
      "source": [
        "# Missing Values/Null Values\n",
        "print(df.isnull().sum())"
      ],
      "metadata": {
        "id": "GgHWkxvamxVg"
      },
      "execution_count": null,
      "outputs": []
    },
    {
      "cell_type": "code",
      "source": [
        "print(df.isnull().sum().sum())"
      ],
      "metadata": {
        "id": "5mwNQvjhyD8x"
      },
      "execution_count": null,
      "outputs": []
    },
    {
      "cell_type": "code",
      "source": [
        "# Visualizing the missing values\n",
        "sns.heatmap(df.isnull(), cbar=False);"
      ],
      "metadata": {
        "id": "3q5wnI3om9sJ"
      },
      "execution_count": null,
      "outputs": []
    },
    {
      "cell_type": "markdown",
      "source": [
        "### What did you know about your dataset?"
      ],
      "metadata": {
        "id": "H0kj-8xxnORC"
      }
    },
    {
      "cell_type": "markdown",
      "source": [
        "The data set is about Netflix movies and tv shows. The data set have 7787 rows and 12 columns. The data have no duplicate rows. The data have 3631 missing values."
      ],
      "metadata": {
        "id": "gfoNAAC-nUe_"
      }
    },
    {
      "cell_type": "markdown",
      "source": [
        "## ***2. Understanding Your Variables***"
      ],
      "metadata": {
        "id": "nA9Y7ga8ng1Z"
      }
    },
    {
      "cell_type": "code",
      "source": [
        "# Dataset Columns\n",
        "df.columns"
      ],
      "metadata": {
        "id": "j7xfkqrt5Ag5"
      },
      "execution_count": null,
      "outputs": []
    },
    {
      "cell_type": "code",
      "source": [
        "# Dataset Describe\n",
        "df.describe(include='all')"
      ],
      "metadata": {
        "id": "DnOaZdaE5Q5t"
      },
      "execution_count": null,
      "outputs": []
    },
    {
      "cell_type": "markdown",
      "source": [
        "### Variables Description"
      ],
      "metadata": {
        "id": "PBTbrJXOngz2"
      }
    },
    {
      "cell_type": "markdown",
      "source": [
        "1. show_id: An identifier or unique code for each show or movie in the dataset.\n",
        "2. type: Indicates whether the entry is a \"TV Show\" or a \"Movie\".\n",
        "3. title: The title or name of the TV show or movie.\n",
        "4. director: The name of the director(s) or filmmaker(s) responsible for creating the content. This column is typically available for movies and may be empty or null for TV shows.\n",
        "5. cast: The list of main actors or performers who are part of the show or movie.\n",
        "6. country: The country or countries where the content was produced or originated from.\n",
        "7. date_added: The date when the content was added to the Netflix catalog.\n",
        "8. release_year: The year when the content was originally released (for movies) or first aired (for TV shows).\n",
        "9. rating: The content rating assigned to the show or movie based on its suitability for different audiences (e.g., PG, PG-13, TV-MA, etc.).\n",
        "10. duration: The duration or runtime of the content (e.g., 1 hour, 30 minutes).\n",
        "11. listed_in: The category or genre under which the content is classified or listed on Netflix (e.g., Comedy, Action & Adventure, Sci-Fi & Fantasy).\n",
        "12. description: A brief synopsis or summary of the plot or storyline of the show or movie."
      ],
      "metadata": {
        "id": "aJV4KIxSnxay"
      }
    },
    {
      "cell_type": "markdown",
      "source": [
        "### Check Unique Values for each variable."
      ],
      "metadata": {
        "id": "u3PMJOP6ngxN"
      }
    },
    {
      "cell_type": "code",
      "source": [
        "# Check Unique Values for each variable.\n",
        "for i in df.columns.tolist():\n",
        "  print(\"No. of unique values in \",i,\"is\",df[i].nunique(),\".\")"
      ],
      "metadata": {
        "id": "zms12Yq5n-jE"
      },
      "execution_count": null,
      "outputs": []
    },
    {
      "cell_type": "markdown",
      "source": [
        "## 3. ***Data Wrangling***"
      ],
      "metadata": {
        "id": "dauF4eBmngu3"
      }
    },
    {
      "cell_type": "markdown",
      "source": [
        "### Data Wrangling Code"
      ],
      "metadata": {
        "id": "bKJF3rekwFvQ"
      }
    },
    {
      "cell_type": "code",
      "source": [
        "# Assuming df is the name of your DataFrame\n",
        "missing_values = df.isnull().sum()\n",
        "total_rows = df.shape[0]\n",
        "\n",
        "# Calculate the percentage of missing values for each column\n",
        "percentage_missing_values = (missing_values / total_rows) * 100\n",
        "\n",
        "print(percentage_missing_values)"
      ],
      "metadata": {
        "id": "wk-9a2fpoLcV"
      },
      "execution_count": null,
      "outputs": []
    },
    {
      "cell_type": "markdown",
      "source": [
        "\n",
        "The \"director\" column in the dataset has the highest number of missing values, accounting for approximately 30.7% of the total data. The \"cast\" column follows with around 9% missing values. Additionally, the columns \"country,\" \"date_added,\" and \"rating\" also contain missing values."
      ],
      "metadata": {
        "id": "h9w4vJxK219D"
      }
    },
    {
      "cell_type": "code",
      "source": [
        "# Missing Values/Null Values\n",
        "print(df.isnull().sum())"
      ],
      "metadata": {
        "id": "hE6IMMna3WBM"
      },
      "execution_count": null,
      "outputs": []
    },
    {
      "cell_type": "code",
      "source": [
        "df['country'] = df['country'].fillna('Unknown')"
      ],
      "metadata": {
        "id": "gQ5bsmYh4OwI"
      },
      "execution_count": null,
      "outputs": []
    },
    {
      "cell_type": "markdown",
      "source": [
        "### What all manipulations have you done and insights you found?"
      ],
      "metadata": {
        "id": "MSa1f5Uengrz"
      }
    },
    {
      "cell_type": "markdown",
      "source": [
        "Answer Here."
      ],
      "metadata": {
        "id": "LbyXE7I1olp8"
      }
    },
    {
      "cell_type": "markdown",
      "source": [
        "## ***4. Data Vizualization, Storytelling & Experimenting with charts : Understand the relationships between variables***"
      ],
      "metadata": {
        "id": "GF8Ens_Soomf"
      }
    },
    {
      "cell_type": "markdown",
      "source": [
        "#### Chart - 1"
      ],
      "metadata": {
        "id": "0wOQAZs5pc--"
      }
    },
    {
      "cell_type": "code",
      "source": [
        "# Calculate the counts for each type\n",
        "type_counts = df['type'].value_counts()\n",
        "\n",
        "# Define colors for the pie chart\n",
        "colors = [ '#6050DC','#FF2E7E']\n",
        "\n",
        "# Create the pie chart\n",
        "plt.figure(figsize=(10, 7))\n",
        "\n",
        "# Plot the pie chart\n",
        "wedges, texts, autotexts = plt.pie(type_counts, labels=type_counts.index, autopct='%1.2f%%',\n",
        "                                   startangle=90, colors=colors, explode=[0.05, 0.05])\n",
        "\n",
        "# Add a title\n",
        "plt.title('Type of Netflix Content', fontsize=16, fontweight='bold')\n",
        "\n",
        "# Create 3D-like effect by setting zorder for wedges and texts\n",
        "for wedge, text, autotext in zip(wedges, texts, autotexts):\n",
        "    wedge.set_zorder(10)\n",
        "    text.set_zorder(11)\n",
        "    autotext.set_zorder(12)\n",
        "\n",
        "# Set aspect ratio to be equal so that the pie chart looks circular\n",
        "plt.axis('equal')\n",
        "\n",
        "# Show the plot\n",
        "plt.show()\n"
      ],
      "metadata": {
        "id": "7v_ESjsspbW7"
      },
      "execution_count": null,
      "outputs": []
    },
    {
      "cell_type": "markdown",
      "source": [
        "##### 1. Why did you pick the specific chart?"
      ],
      "metadata": {
        "id": "K5QZ13OEpz2H"
      }
    },
    {
      "cell_type": "markdown",
      "source": [
        "Pie charts are often used to display the distribution of categorical data. In the case of the chart you mentioned, it shows the distribution of content types (TV shows and movies) in the Netflix dataset."
      ],
      "metadata": {
        "id": "XESiWehPqBRc"
      }
    },
    {
      "cell_type": "markdown",
      "source": [
        "##### 2. What is/are the insight(s) found from the chart?"
      ],
      "metadata": {
        "id": "lQ7QKXXCp7Bj"
      }
    },
    {
      "cell_type": "markdown",
      "source": [
        "TV shows account for approximately 30.86% of the content on Netflix.\n",
        "\n",
        "Movies make up the majority of the content with approximately 69.14%."
      ],
      "metadata": {
        "id": "C_j1G7yiqdRP"
      }
    },
    {
      "cell_type": "markdown",
      "source": [
        "##### 3. Will the gained insights help creating a positive business impact?\n",
        "Are there any insights that lead to negative growth? Justify with specific reason."
      ],
      "metadata": {
        "id": "448CDAPjqfQr"
      }
    },
    {
      "cell_type": "markdown",
      "source": [
        "Potential positive business impact:\n",
        "The insight gained from this pie chart can help Netflix understand the proportion of TV shows and movies in their content library. This information can be valuable for content strategists and decision-makers. For example:\n",
        "\n",
        "* Netflix might decide to focus on producing or acquiring more movies if they find that the majority of their audience prefers movies.\n",
        "* On the other hand, if TV shows are less prevalent but have a dedicated audience, Netflix might decide to invest more in creating original TV shows to cater to that demand.\n",
        "* This insight can also guide the platform's marketing efforts, helping them target specific audience segments based on their content preferences."
      ],
      "metadata": {
        "id": "3cspy4FjqxJW"
      }
    },
    {
      "cell_type": "markdown",
      "source": [
        "#### Chart - 2"
      ],
      "metadata": {
        "id": "KSlN3yHqYklG"
      }
    },
    {
      "cell_type": "code",
      "source": [
        "# Calculate the counts for each country\n",
        "country_counts = df['country'].value_counts().head(10)\n",
        "\n",
        "# Create the bar plot using Seaborn with 'tab10' color palette\n",
        "plt.figure(figsize=(12, 8))\n",
        "sns.barplot(x=country_counts.index, y=country_counts, palette='tab10')\n",
        "\n",
        "# Add a title and labels\n",
        "plt.title('Top 10 Countries with Most Content on Netflix', fontsize=16, fontweight='bold')\n",
        "plt.xlabel('Country')\n",
        "plt.ylabel('Number of Titles')\n",
        "\n",
        "# Rotate the x-axis labels for better readability\n",
        "plt.xticks(rotation=45, ha='right')\n",
        "\n",
        "# Show the plot\n",
        "plt.show()\n"
      ],
      "metadata": {
        "id": "R4YgtaqtYklH"
      },
      "execution_count": null,
      "outputs": []
    },
    {
      "cell_type": "markdown",
      "source": [
        "##### 1. Why did you pick the specific chart?"
      ],
      "metadata": {
        "id": "t6dVpIINYklI"
      }
    },
    {
      "cell_type": "markdown",
      "source": [
        "The bar plot was chosen for the distribution of the number of titles in different countries because it is an effective way to compare the number of titles between different categories (countries in this case) and easily identify the countries with the highest number of titles."
      ],
      "metadata": {
        "id": "5aaW0BYyYklI"
      }
    },
    {
      "cell_type": "markdown",
      "source": [
        "##### 2. What is/are the insight(s) found from the chart?"
      ],
      "metadata": {
        "id": "ijmpgYnKYklI"
      }
    },
    {
      "cell_type": "markdown",
      "source": [
        "1. The United States has the highest number of titles on Netflix, with more than 2500 titles.\n",
        "2. India follows with around 1000 titles, which is significantly lower than the number of titles in the United States.\n",
        "3. The United Kingdom and Japan also have a considerable number of titles, but they are still significantly lower than the number of titles in the United States.\n",
        "4. Other countries have even fewer titles compared to the top countries mentioned above."
      ],
      "metadata": {
        "id": "PSx9atu2YklI"
      }
    },
    {
      "cell_type": "markdown",
      "source": [
        "##### 3. Will the gained insights help creating a positive business impact?\n",
        "Are there any insights that lead to negative growth? Justify with specific reason."
      ],
      "metadata": {
        "id": "-JiQyfWJYklI"
      }
    },
    {
      "cell_type": "markdown",
      "source": [
        "The gained insights can have several positive business impacts for Netflix:\n",
        "\n",
        "* Understanding popularity: Knowing the countries with the highest number of titles can help Netflix understand the popularity and demand for its content in different regions. This can guide content acquisition and production strategies, ensuring that the platform caters to the preferences of its global audience.\n",
        "* Targeted content marketing: With insights about countries with a high number of titles, Netflix can target its marketing efforts in those regions to maximize reach and engagement with the platform.\n",
        "* Localization and regional content: Understanding the preferences of specific regions, such as India, can drive Netflix to invest in producing and acquiring more localized content, thus increasing user engagement in those regions.\n",
        "* Strategic partnerships: Netflix can consider strategic partnerships with content creators and production houses in countries with significant user bases to strengthen its content library and offer more exclusive content."
      ],
      "metadata": {
        "id": "BcBbebzrYklV"
      }
    },
    {
      "cell_type": "markdown",
      "source": [
        "#### Chart - 3"
      ],
      "metadata": {
        "id": "EM7whBJCYoAo"
      }
    },
    {
      "cell_type": "code",
      "source": [
        "# Convert 'date_added' column to datetime type\n",
        "df['date_added'] = pd.to_datetime(df['date_added'])\n",
        "\n",
        "# Extract year from the 'date_added' column\n",
        "df['year_added'] = df['date_added'].dt.year\n",
        "\n",
        "# Calculate the count of titles for each year\n",
        "year_counts = df['year_added'].value_counts().sort_index()\n",
        "\n",
        "# Create the bar plot for distribution of titles by year\n",
        "plt.figure(figsize=(12, 8))\n",
        "sns.barplot(x=year_counts.index, y=year_counts, palette='tab10')\n",
        "\n",
        "# Customize the plot\n",
        "plt.xlabel('Year')\n",
        "plt.ylabel('Number of Titles')\n",
        "plt.title('Distribution of Titles by Year')\n",
        "\n",
        "# Show the plot\n",
        "plt.show()\n"
      ],
      "metadata": {
        "id": "t6GMdE67YoAp"
      },
      "execution_count": null,
      "outputs": []
    },
    {
      "cell_type": "code",
      "source": [
        "# Convert 'date_added' column to datetime type\n",
        "df['date_added'] = pd.to_datetime(df['date_added'])\n",
        "\n",
        "# Extract month from the 'date_added' column\n",
        "df['month_added'] = df['date_added'].dt.month\n",
        "\n",
        "# Calculate the count of titles for each month\n",
        "month_counts = df['month_added'].value_counts().sort_index()\n",
        "\n",
        "# Create the bar plot for distribution of titles by month\n",
        "plt.figure(figsize=(10, 6))\n",
        "sns.barplot(x=month_counts.index, y=month_counts, palette='tab10')\n",
        "\n",
        "# Customize the plot\n",
        "plt.xlabel('Month')\n",
        "plt.ylabel('Number of Titles')\n",
        "plt.title('Distribution of Titles by Month')\n",
        "plt.xticks(ticks=range(0, 12), labels=['Jan', 'Feb', 'Mar', 'Apr', 'May', 'Jun', 'Jul', 'Aug', 'Sep', 'Oct', 'Nov', 'Dec'])\n",
        "\n",
        "# Show the plot\n",
        "plt.show()\n"
      ],
      "metadata": {
        "id": "Jrtyo0JKX5bu"
      },
      "execution_count": null,
      "outputs": []
    },
    {
      "cell_type": "markdown",
      "source": [
        "##### 1. Why did you pick the specific chart?"
      ],
      "metadata": {
        "id": "fge-S5ZAYoAp"
      }
    },
    {
      "cell_type": "markdown",
      "source": [
        "The bar plot for the distribution of titles by year and months provides insights into the volume of content added to Netflix over different years and months. Let's analyze the insights and evaluate their potential positive business impact:"
      ],
      "metadata": {
        "id": "5dBItgRVYoAp"
      }
    },
    {
      "cell_type": "markdown",
      "source": [
        "##### 2. What is/are the insight(s) found from the chart?"
      ],
      "metadata": {
        "id": "85gYPyotYoAp"
      }
    },
    {
      "cell_type": "markdown",
      "source": [
        "1. For Year: The plot shows that 2019 has the highest number of titles added to Netflix, with approximately 2000 titles. This is followed by 2020, which has slightly fewer titles than 2019. Additionally, the years 2018, 2017, and 2016 also have significant numbers of titles added. However, it's worth noting that the data may be incomplete for the current year (2023), as the plot does not show the full year's data.\n",
        "\n",
        "2. For Month: The plot reveals that December has the highest number of title additions, with over 800 titles. Following December, October and January have the next highest number of title additions, with both months having around 750 titles added. These months seem to be peak periods for content additions."
      ],
      "metadata": {
        "id": "4jstXR6OYoAp"
      }
    },
    {
      "cell_type": "markdown",
      "source": [
        "##### 3. Will the gained insights help creating a positive business impact?\n",
        "Are there any insights that lead to negative growth? Justify with specific reason."
      ],
      "metadata": {
        "id": "RoGjAbkUYoAp"
      }
    },
    {
      "cell_type": "markdown",
      "source": [
        "* Content Strategy and Investment: The insights from the chart can help Netflix's content team in making informed decisions about content strategy and investment. Knowing that certain years (e.g., 2019) and months (e.g., December) have historically seen higher content additions can guide them in planning the release of new original content or acquiring more titles during those periods.\n",
        "\n",
        "* User Engagement and Retention: High content additions during certain periods may attract more subscribers due to the availability of fresh content. This could potentially lead to increased user engagement and retention, as viewers may find more reasons to stay subscribed and explore new titles.\n",
        "\n",
        "* Seasonal Content Planning: The insights about peak months (e.g., December and October) can help in planning seasonal content tailored to specific themes, holidays, or events. This can enhance user experience by offering relevant content during special occasions.\n"
      ],
      "metadata": {
        "id": "zfJ8IqMcYoAp"
      }
    },
    {
      "cell_type": "markdown",
      "source": [
        "#### Chart - 4"
      ],
      "metadata": {
        "id": "4Of9eVA-YrdM"
      }
    },
    {
      "cell_type": "code",
      "source": [
        "# Filter the DataFrame to include only movies\n",
        "movies_df = df[df['type'] == 'Movie'].copy()\n",
        "\n",
        "# Convert the \"duration\" column to integers for movies only\n",
        "movies_df['duration'] = movies_df['duration'].str.replace(' min', '')\n",
        "movies_df = movies_df[movies_df['duration'].str.isnumeric()]  # Keep only rows with numeric durations\n",
        "movies_df['duration'] = movies_df['duration'].astype(int)\n",
        "\n",
        "# Create the histplot for movie durations\n",
        "plt.figure(figsize=(10, 6))\n",
        "sns.set_style('whitegrid')  # Set the style to white grid\n",
        "\n",
        "# Use a custom color palette for the plot\n",
        "custom_palette = sns.color_palette(['#1f77b4'])\n",
        "\n",
        "sns.histplot(movies_df['duration'], bins=30, kde=False, color=custom_palette[0], alpha=0.8)\n",
        "\n",
        "# Customize the plot\n",
        "plt.xlabel('Duration (Minutes)', fontsize=12, fontweight='bold')\n",
        "plt.ylabel('Number of Movies', fontsize=12, fontweight='bold')\n",
        "plt.title('Distribution of Movie Durations on Netflix', fontsize=16, fontweight='bold')\n",
        "\n",
        "# Customize ticks\n",
        "plt.xticks(fontsize=10)\n",
        "plt.yticks(fontsize=10)\n",
        "\n",
        "# Add background color\n",
        "ax = plt.gca()\n",
        "ax.set_facecolor('#f9f9f9')\n",
        "\n",
        "# Remove right and top spines\n",
        "sns.despine(right=True, top=True)\n",
        "\n",
        "# Show the plot\n",
        "plt.show()\n"
      ],
      "metadata": {
        "id": "irlUoxc8YrdO"
      },
      "execution_count": null,
      "outputs": []
    },
    {
      "cell_type": "code",
      "source": [
        "# Filter the DataFrame to include only TV shows\n",
        "tv_shows_df = df[df['type'] == 'TV Show'].copy()\n",
        "\n",
        "# Extract the number of seasons from the 'duration' column\n",
        "tv_shows_df['num_seasons'] = tv_shows_df['duration'].str.extract(r'(\\d+)').astype(int)\n",
        "\n",
        "# Create the histplot for TV show durations (number of seasons)\n",
        "plt.figure(figsize=(10, 6))\n",
        "sns.set_style('whitegrid')  # Set the style to white grid\n",
        "\n",
        "# Use a custom color palette for the plot\n",
        "custom_palette = sns.color_palette(['#FF5733'])\n",
        "\n",
        "sns.histplot(tv_shows_df['num_seasons'], bins=30, kde=False, color=custom_palette[0], alpha=0.8)\n",
        "\n",
        "# Customize the plot\n",
        "plt.xlabel('Number of Seasons', fontsize=12, fontweight='bold')\n",
        "plt.ylabel('Number of TV Shows', fontsize=12, fontweight='bold')\n",
        "plt.title('Distribution of Number of Seasons for TV Shows on Netflix', fontsize=16, fontweight='bold')\n",
        "\n",
        "# Explicitly set x-axis ticks to include all integer values\n",
        "plt.xticks(range(min(tv_shows_df['num_seasons']), max(tv_shows_df['num_seasons']) + 1))\n",
        "\n",
        "# Customize ticks\n",
        "plt.xticks(fontsize=10)\n",
        "plt.yticks(fontsize=10)\n",
        "\n",
        "# Add background color\n",
        "ax = plt.gca()\n",
        "ax.set_facecolor('#f9f9f9')\n",
        "\n",
        "# Remove right and top spines\n",
        "sns.despine(right=True, top=True)\n",
        "\n",
        "# Show the plot\n",
        "plt.show()\n"
      ],
      "metadata": {
        "id": "Gl4W0FBObCjL"
      },
      "execution_count": null,
      "outputs": []
    },
    {
      "cell_type": "markdown",
      "source": [
        "##### 1. Why did you pick the specific chart?"
      ],
      "metadata": {
        "id": "iky9q4vBYrdO"
      }
    },
    {
      "cell_type": "markdown",
      "source": [
        "The choice of the specific chart, which is a histogram plot, was made to visualize the distribution of movie durations and TV show seasons in the Netflix dataset. Histograms are suitable for displaying the frequency distribution of continuous or discrete data, making them ideal for showcasing the distribution of durations and seasons."
      ],
      "metadata": {
        "id": "aJRCwT6DYrdO"
      }
    },
    {
      "cell_type": "markdown",
      "source": [
        "##### 2. What is/are the insight(s) found from the chart?"
      ],
      "metadata": {
        "id": "F6T5p64dYrdO"
      }
    },
    {
      "cell_type": "markdown",
      "source": [
        "1. For Movies:\n",
        "\n",
        "* The most common movie duration on Netflix is around 90 minutes, with more than 1000 titles falling into this duration category.\n",
        "* The second most common duration is approximately 100 minutes, with another 1000 titles falling into this category.\n",
        "* After that, the frequencies of movie durations decrease gradually for durations such as 110 minutes, 80 minutes, and so on.\n",
        "\n",
        "2. For TV Shows:\n",
        "\n",
        "* TV shows with only one season (Season 1) have the highest frequency, with around 1600 titles falling into this category.\n",
        "* As the season number increases, the frequency of TV shows decreases. This implies that there are fewer TV shows with higher numbers of seasons."
      ],
      "metadata": {
        "id": "Xx8WAJvtYrdO"
      }
    },
    {
      "cell_type": "markdown",
      "source": [
        "##### 3. Will the gained insights help creating a positive business impact?\n",
        "Are there any insights that lead to negative growth? Justify with specific reason."
      ],
      "metadata": {
        "id": "y-Ehk30pYrdP"
      }
    },
    {
      "cell_type": "markdown",
      "source": [
        "The insights gained from these histogram plots can have a positive impact on Netflix's business in several ways:\n",
        "\n",
        "* Content Strategy: Understanding the distribution of movie durations and TV show seasons can help Netflix make informed decisions about the types of content they acquire or produce. They can prioritize content with popular durations and plan for TV shows with a certain number of seasons that align with viewer preferences.\n",
        "\n",
        "* User Engagement: By analyzing the distribution of movie durations and TV show seasons, Netflix can create curated playlists or recommendations tailored to users' preferences. This can lead to increased user engagement and satisfaction.\n",
        "\n",
        "* Resource Allocation: Knowledge of the most common movie durations and TV show seasons can help Netflix allocate resources efficiently. They can plan for marketing efforts, content curation, and streaming schedules based on the popularity of certain durations and seasons."
      ],
      "metadata": {
        "id": "jLNxxz7MYrdP"
      }
    },
    {
      "cell_type": "markdown",
      "source": [
        "#### Chart - 5"
      ],
      "metadata": {
        "id": "bamQiAODYuh1"
      }
    },
    {
      "cell_type": "code",
      "source": [
        "# Calculate the number of titles for each rating category and sort the ratings based on the count\n",
        "sorted_ratings = df['rating'].value_counts().index\n",
        "\n",
        "# Create the countplot for distribution of ratings\n",
        "plt.figure(figsize=(10, 6))\n",
        "sns.set_style('whitegrid')  # Set the style to white grid\n",
        "\n",
        "# Use a custom color palette with distinct colors for each rating category\n",
        "sns.countplot(x='rating', data=df, palette='viridis', order=sorted_ratings)\n",
        "\n",
        "# Customize the plot\n",
        "plt.xlabel('Rating', fontsize=12, fontweight='bold')\n",
        "plt.ylabel('Number of Titles', fontsize=12, fontweight='bold')\n",
        "plt.title('Distribution of Ratings on Netflix', fontsize=16, fontweight='bold')\n",
        "\n",
        "# Customize ticks\n",
        "plt.xticks(fontsize=10, rotation=45, ha='right')\n",
        "plt.yticks(fontsize=10)\n",
        "\n",
        "# Add background color\n",
        "ax = plt.gca()\n",
        "ax.set_facecolor('#f9f9f9')\n",
        "\n",
        "# Remove right and top spines\n",
        "sns.despine(right=True, top=True)\n",
        "\n",
        "# Show the plot\n",
        "plt.tight_layout()\n",
        "plt.show()\n"
      ],
      "metadata": {
        "id": "TIJwrbroYuh3"
      },
      "execution_count": null,
      "outputs": []
    },
    {
      "cell_type": "markdown",
      "source": [
        "##### 1. What is/are the insight(s) found from the chart?"
      ],
      "metadata": {
        "id": "GwzvFGzlYuh3"
      }
    },
    {
      "cell_type": "markdown",
      "source": [
        "* The majority of titles on Netflix have the TV-MA rating, indicating that the content is intended for mature audiences and may contain explicit content.\n",
        "* The TV-14 rating comes in second, followed by TV-PG, R, and PG-13, with progressively lower numbers of titles."
      ],
      "metadata": {
        "id": "uyqkiB8YYuh3"
      }
    },
    {
      "cell_type": "markdown",
      "source": [
        "##### 2. Will the gained insights help creating a positive business impact?\n",
        "Are there any insights that lead to negative growth? Justify with specific reason."
      ],
      "metadata": {
        "id": "qYpmQ266Yuh3"
      }
    },
    {
      "cell_type": "markdown",
      "source": [
        "* Understanding the distribution of ratings on Netflix can help content creators and producers identify the most popular rating categories among viewers. This insight can guide them in creating and producing content that aligns with the preferences and interests of the target audience.\n",
        "* Content creators can focus on producing more titles with TV-MA and TV-14 ratings, as they seem to be the most prevalent on the platform, potentially attracting a larger audience."
      ],
      "metadata": {
        "id": "_WtzZ_hCYuh4"
      }
    },
    {
      "cell_type": "markdown",
      "source": [
        "#### Chart - 6"
      ],
      "metadata": {
        "id": "OH-pJp9IphqM"
      }
    },
    {
      "cell_type": "code",
      "source": [
        "# Filter the DataFrame to include only movies\n",
        "movies_df = df[df['type'] == 'Movie'].copy()\n",
        "\n",
        "# Count the occurrences of each genre in the DataFrame\n",
        "genre_counts = movies_df['listed_in'].str.split(', ').explode().value_counts()\n",
        "\n",
        "# Get the top 10 genres\n",
        "top_10_genres = genre_counts.head(10)\n",
        "\n",
        "# Create the horizontal bar plot for top 10 genres of movies\n",
        "plt.figure(figsize=(8, 6))\n",
        "sns.set_style('whitegrid')  # Set the style to white grid\n",
        "\n",
        "# Use a color palette for the plot\n",
        "custom_palette = sns.color_palette('Reds_r', n_colors=len(top_10_genres))\n",
        "\n",
        "sns.barplot(y=top_10_genres.index, x=top_10_genres, palette=custom_palette)\n",
        "\n",
        "# Customize the plot\n",
        "plt.xlabel('Number of Movies', fontsize=12, fontweight='bold')\n",
        "plt.ylabel('Genres', fontsize=12, fontweight='bold')\n",
        "plt.title('Top 10 Genres of Movies on Netflix', fontsize=16, fontweight='bold')\n",
        "\n",
        "# Customize ticks\n",
        "plt.xticks(fontsize=10)\n",
        "plt.yticks(fontsize=10)\n",
        "\n",
        "# Add background color\n",
        "ax = plt.gca()\n",
        "ax.set_facecolor('#f9f9f9')\n",
        "\n",
        "# Remove right and top spines\n",
        "sns.despine(right=True, top=True)\n",
        "\n",
        "# Show the plot\n",
        "plt.tight_layout()\n",
        "plt.show()\n"
      ],
      "metadata": {
        "id": "kuRf4wtuphqN"
      },
      "execution_count": null,
      "outputs": []
    },
    {
      "cell_type": "code",
      "source": [
        "# Filter the DataFrame to include only TV shows\n",
        "tv_shows_df = df[df['type'] == 'TV Show'].copy()\n",
        "\n",
        "# Count the occurrences of each genre in the DataFrame\n",
        "genre_counts_tv = tv_shows_df['listed_in'].str.split(', ').explode().value_counts()\n",
        "\n",
        "# Get the top 10 genres for TV shows\n",
        "top_10_genres_tv = genre_counts_tv.head(10)\n",
        "\n",
        "# Create the horizontal bar plot for top 10 genres of TV shows\n",
        "plt.figure(figsize=(8, 6))\n",
        "sns.set_style('whitegrid')  # Set the style to white grid\n",
        "\n",
        "# Use a color palette for the plot\n",
        "custom_palette = sns.color_palette('Greens_r', n_colors=len(top_10_genres_tv))\n",
        "\n",
        "sns.barplot(y=top_10_genres_tv.index, x=top_10_genres_tv, palette=custom_palette)\n",
        "\n",
        "# Customize the plot\n",
        "plt.xlabel('Number of TV Shows', fontsize=12, fontweight='bold')\n",
        "plt.ylabel('Genres', fontsize=12, fontweight='bold')\n",
        "plt.title('Top 10 Genres of TV Shows on Netflix', fontsize=16, fontweight='bold')\n",
        "\n",
        "# Customize ticks\n",
        "plt.xticks(fontsize=10)\n",
        "plt.yticks(fontsize=10)\n",
        "\n",
        "# Add background color\n",
        "ax = plt.gca()\n",
        "ax.set_facecolor('#f9f9f9')\n",
        "\n",
        "# Remove right and top spines\n",
        "sns.despine(right=True, top=True)\n",
        "\n",
        "# Show the plot\n",
        "plt.tight_layout()\n",
        "plt.show()\n"
      ],
      "metadata": {
        "id": "60acAtX5hG4U"
      },
      "execution_count": null,
      "outputs": []
    },
    {
      "cell_type": "markdown",
      "source": [
        "##### 1. Why did you pick the specific chart?"
      ],
      "metadata": {
        "id": "bbFf2-_FphqN"
      }
    },
    {
      "cell_type": "markdown",
      "source": [
        "I picked the bar plot for the top 10 genres of movies and TV shows separately because it effectively shows the distribution of genres and allows for easy comparison of the most popular genres in each category. The bar plot is ideal for visualizing categorical data like genres and provides a clear representation of the frequency of each genre."
      ],
      "metadata": {
        "id": "loh7H2nzphqN"
      }
    },
    {
      "cell_type": "markdown",
      "source": [
        "##### 2. What is/are the insight(s) found from the chart?"
      ],
      "metadata": {
        "id": "_ouA3fa0phqN"
      }
    },
    {
      "cell_type": "markdown",
      "source": [
        "* From the bar plot for movies, we can observe that \"International Movies\" is the most common genre, followed by \"Dramas,\" \"Comedies,\" \"Documentaries,\" etc. This suggests that international movies and drama content are quite popular on Netflix.\n",
        "\n",
        "* From the bar plot for TV shows, we can see that \"International TV Shows\" are the most common, followed by \"TV Dramas,\" \"TV Comedies,\" \"Crime TV Shows,\" etc. This indicates that international TV shows and drama content are prominent among the TV shows available on Netflix.\n"
      ],
      "metadata": {
        "id": "VECbqPI7phqN"
      }
    },
    {
      "cell_type": "markdown",
      "source": [
        "##### 3. Will the gained insights help creating a positive business impact?\n",
        "Are there any insights that lead to negative growth? Justify with specific reason."
      ],
      "metadata": {
        "id": "Seke61FWphqN"
      }
    },
    {
      "cell_type": "markdown",
      "source": [
        "Yes, the insights gained from the bar plots can be valuable for creating a positive business impact.\n",
        "* Understanding the most popular genres for both movies and TV shows allows Netflix to tailor its content offerings to cater to viewer preferences. By focusing on genres that have a high demand and appeal to a broad audience, Netflix can attract more subscribers, increase viewership, and retain existing customers.\n",
        "* Additionally, this information can be used in content acquisition and production strategies to invest in genres that have a higher potential for success. Ultimately, catering to viewers' preferences can lead to improved user satisfaction and engagement, which can positively impact Netflix's business performance."
      ],
      "metadata": {
        "id": "DW4_bGpfphqN"
      }
    },
    {
      "cell_type": "markdown",
      "source": [
        "#### Chart - 7"
      ],
      "metadata": {
        "id": "PIIx-8_IphqN"
      }
    },
    {
      "cell_type": "code",
      "source": [
        "# Filter the DataFrame to include only movies\n",
        "movies_df = df[df['type'] == 'Movie'].copy()\n",
        "\n",
        "# Convert the \"duration\" column to integers for movies only\n",
        "movies_df['duration'] = movies_df['duration'].str.replace(' min', '')\n",
        "movies_df = movies_df[movies_df['duration'].str.isnumeric()]  # Keep only rows with numeric durations\n",
        "movies_df['duration'] = movies_df['duration'].astype(int)\n",
        "\n",
        "# Create the box plot for Rating vs. Duration for movies\n",
        "plt.figure(figsize=(10, 6))\n",
        "sns.set_style('whitegrid')  # Set the style to white grid\n",
        "\n",
        "# Use a custom color palette for the plot\n",
        "custom_palette = sns.color_palette('Set3', n_colors=len(movies_df['rating'].unique()))\n",
        "\n",
        "sns.boxplot(x='rating', y='duration', data=movies_df, palette=custom_palette)\n",
        "\n",
        "# Customize the plot\n",
        "plt.xlabel('Rating', fontsize=12, fontweight='bold')\n",
        "plt.ylabel('Duration (Minutes)', fontsize=12, fontweight='bold')\n",
        "plt.title('Rating vs. Duration for Movies on Netflix', fontsize=16, fontweight='bold')\n",
        "\n",
        "# Customize ticks\n",
        "plt.xticks(rotation=45, ha='right', fontsize=10)\n",
        "plt.yticks(fontsize=10)\n",
        "\n",
        "# Add background color\n",
        "ax = plt.gca()\n",
        "ax.set_facecolor('#f9f9f9')\n",
        "\n",
        "# Remove right and top spines\n",
        "sns.despine(right=True, top=True)\n",
        "\n",
        "# Show the plot\n",
        "plt.tight_layout()\n",
        "plt.show()\n"
      ],
      "metadata": {
        "id": "lqAIGUfyphqO"
      },
      "execution_count": null,
      "outputs": []
    },
    {
      "cell_type": "code",
      "source": [
        "import seaborn as sns\n",
        "import matplotlib.pyplot as plt\n",
        "\n",
        "# Assuming df is the name of your DataFrame with the Netflix data\n",
        "\n",
        "# Filter the DataFrame to include only TV shows\n",
        "tv_shows_df = df[df['type'] == 'TV Show'].copy()\n",
        "\n",
        "# Extract the numeric part from the 'duration' column to convert it to the 'Number of Seasons'\n",
        "tv_shows_df['Number of Seasons'] = tv_shows_df['duration'].str.extract('(\\d+)').astype(int)\n",
        "\n",
        "# Create the box plot for Rating vs. Number of Seasons for TV shows\n",
        "plt.figure(figsize=(10, 6))\n",
        "sns.set_style('whitegrid')  # Set the style to white grid\n",
        "\n",
        "# Use a custom color palette for the plot\n",
        "custom_palette = sns.color_palette('Set3', n_colors=len(tv_shows_df['rating'].unique()))\n",
        "\n",
        "sns.boxplot(x='rating', y='Number of Seasons', data=tv_shows_df, palette=custom_palette)\n",
        "\n",
        "# Customize the plot\n",
        "plt.xlabel('Rating', fontsize=12, fontweight='bold')\n",
        "plt.ylabel('Number of Seasons', fontsize=12, fontweight='bold')\n",
        "plt.title('Rating vs. Number of Seasons for TV Shows on Netflix', fontsize=16, fontweight='bold')\n",
        "\n",
        "# Customize ticks\n",
        "plt.xticks(rotation=45, ha='right', fontsize=10)\n",
        "plt.yticks(fontsize=10)\n",
        "\n",
        "# Add background color\n",
        "ax = plt.gca()\n",
        "ax.set_facecolor('#f9f9f9')\n",
        "\n",
        "# Remove right and top spines\n",
        "sns.despine(right=True, top=True)\n",
        "\n",
        "# Show the plot\n",
        "plt.tight_layout()\n",
        "plt.show()\n"
      ],
      "metadata": {
        "id": "gW0vQU7AmqBn"
      },
      "execution_count": null,
      "outputs": []
    },
    {
      "cell_type": "markdown",
      "source": [
        "##### 1. Why did you pick the specific chart?"
      ],
      "metadata": {
        "id": "t27r6nlMphqO"
      }
    },
    {
      "cell_type": "markdown",
      "source": [
        "A box plot is typically used to visualize the distribution of a continuous variable across different categories. In this case, a scatter plot or a line plot might be more suitable for exploring the relationship between rating and duration for movies."
      ],
      "metadata": {
        "id": "iv6ro40sphqO"
      }
    },
    {
      "cell_type": "markdown",
      "source": [
        "##### 2. Will the gained insights help creating a positive business impact?\n",
        "Are there any insights that lead to negative growth? Justify with specific reason."
      ],
      "metadata": {
        "id": "b0JNsNcRphqO"
      }
    },
    {
      "cell_type": "markdown",
      "source": [
        "The insights gained from this box plot can be valuable for content creators and producers. Understanding the relationship between content ratings and movie durations can help them tailor their content to specific target audiences based on rating preferences.\n",
        "For example, if the analysis shows that movies with specific ratings (e.g., TV-MA) tend to be longer and receive positive audience reception, content creators might consider producing more content with similar characteristics to attract viewers who prefer such content.\n",
        "Additionally, this analysis can aid in content planning and budget allocation. Knowing the preferred duration for different rating categories can guide the decision-making process while creating or acquiring new content."
      ],
      "metadata": {
        "id": "xvSq8iUTphqO"
      }
    },
    {
      "cell_type": "markdown",
      "source": [
        "#### Chart - 8"
      ],
      "metadata": {
        "id": "BZR9WyysphqO"
      }
    },
    {
      "cell_type": "code",
      "source": [
        "from wordcloud import WordCloud\n",
        "\n",
        "# Separate titles of movies and TV shows\n",
        "movies_titles = \" \".join(df[df['type'] == 'Movie']['title'])\n",
        "\n",
        "\n",
        "# Create word cloud for movie titles\n",
        "wordcloud_movies = WordCloud(width=800, height=400, background_color='white', colormap='Blues',\n",
        "                            max_words=100, stopwords=None).generate(movies_titles)\n",
        "\n",
        "\n",
        "# Plot the word clouds for movie titles\n",
        "plt.figure(figsize=(8, 6))\n",
        "plt.imshow(wordcloud_movies, interpolation='bilinear')\n",
        "plt.title('Word Cloud for Movie Titles', fontsize=14)\n",
        "plt.axis('off')\n",
        "plt.show()"
      ],
      "metadata": {
        "id": "WS9Fijv0BRm_"
      },
      "execution_count": null,
      "outputs": []
    },
    {
      "cell_type": "code",
      "source": [
        "tv_shows_titles = \" \".join(df[df['type'] == 'TV Show']['title'])\n",
        "\n",
        "# Create word cloud for TV show titles\n",
        "wordcloud_tv_shows = WordCloud(width=800, height=400, background_color='white', colormap='Greens',\n",
        "                               max_words=100, stopwords=None).generate(tv_shows_titles)\n",
        "# Plot the word clouds for TV show titles\n",
        "plt.figure(figsize=(8, 6))\n",
        "plt.imshow(wordcloud_tv_shows, interpolation='bilinear')\n",
        "plt.title('Word Cloud for TV Show Titles', fontsize=14)\n",
        "plt.axis('off')\n",
        "plt.show()"
      ],
      "metadata": {
        "id": "R21G_H2jBi-l"
      },
      "execution_count": null,
      "outputs": []
    },
    {
      "cell_type": "markdown",
      "source": [
        "##### 1. Why did you pick the specific chart?"
      ],
      "metadata": {
        "id": "jj7wYXLtphqO"
      }
    },
    {
      "cell_type": "markdown",
      "source": [
        "\n",
        "The specific chart chosen for generating word clouds for movie titles and TV show titles is the word cloud plot. The word cloud is an excellent choice for visualizing text data as it displays the most frequent words in a visually appealing and intuitive manner. In this case, it helps to identify the common themes or topics present in movie titles and TV show titles."
      ],
      "metadata": {
        "id": "Ob8u6rCTphqO"
      }
    },
    {
      "cell_type": "markdown",
      "source": [
        "##### 2. What is/are the insight(s) found from the chart?"
      ],
      "metadata": {
        "id": "eZrbJ2SmphqO"
      }
    },
    {
      "cell_type": "markdown",
      "source": [
        "Insights from the word cloud for movie titles:\n",
        "\n",
        "- Most occurred words include: Christmas, love, movie, man, life.\n",
        "\n",
        "Insights from the word cloud for TV show titles:\n",
        "\n",
        "- Most occurred words include: Girl, world, love, LA."
      ],
      "metadata": {
        "id": "mZtgC_hjphqO"
      }
    },
    {
      "cell_type": "markdown",
      "source": [
        "##### 3. Will the gained insights help creating a positive business impact?\n",
        "Are there any insights that lead to negative growth? Justify with specific reason."
      ],
      "metadata": {
        "id": "rFu4xreNphqO"
      }
    },
    {
      "cell_type": "markdown",
      "source": [
        "1. Content Curation: By understanding the most frequent words in movie titles and TV show titles, content curators can focus on creating or acquiring content that aligns with popular themes. For example, if \"Christmas\" and \"love\" are prevalent in movie titles, Netflix may consider investing in more holiday-themed romantic movies.\n",
        "\n",
        "2. Marketing and Promotion: The insights can also be used for marketing and promotional purposes. Identifying popular keywords in titles can help optimize advertising campaigns and attract the target audience. For instance, using the word \"love\" prominently in promotional material may attract viewers interested in romantic content.\n",
        "\n",
        "3. Audience Engagement: By analyzing the most common words in titles, Netflix can better understand audience preferences. Tailoring recommendations based on popular themes can lead to higher viewer engagement and retention.\n",
        "\n",
        "4. Genre and Category Selection: Insights from word clouds can help in selecting genres or categories that resonate well with the audience. If certain words like \"action\" or \"drama\" are prevalent in movie titles, Netflix may consider expanding its action or drama content library."
      ],
      "metadata": {
        "id": "ey_0qi68phqO"
      }
    },
    {
      "cell_type": "markdown",
      "source": [
        "#### Chart - 9"
      ],
      "metadata": {
        "id": "YJ55k-q6phqO"
      }
    },
    {
      "cell_type": "code",
      "source": [
        "from wordcloud import WordCloud, STOPWORDS\n",
        "\n",
        "# Filter the DataFrame to include only movies and TV shows separately\n",
        "movies_df = df[df['type'] == 'Movie'].copy()\n",
        "tv_shows_df = df[df['type'] == 'TV Show'].copy()\n",
        "\n",
        "# Function to generate word clouds\n",
        "def generate_word_cloud(text_data, title):\n",
        "    wordcloud = WordCloud(width=800, height=400, background_color='white', stopwords=STOPWORDS,\n",
        "                          max_words=100, colormap='viridis').generate(text_data)\n",
        "\n",
        "    plt.figure(figsize=(10, 5))\n",
        "    plt.imshow(wordcloud, interpolation='bilinear')\n",
        "    plt.axis('off')\n",
        "    plt.title(title, fontsize=16, fontweight='bold')\n",
        "    plt.show()\n",
        "\n",
        "# Combine all descriptions for movies and TV shows\n",
        "movies_descriptions = \" \".join(movies_df['description'])\n",
        "tv_shows_descriptions = \" \".join(tv_shows_df['description'])\n",
        "\n",
        "# Generate word cloud for movie descriptions\n",
        "generate_word_cloud(movies_descriptions, title=\"Word Cloud for Movie Descriptions\")"
      ],
      "metadata": {
        "id": "B2aS4O1ophqO"
      },
      "execution_count": null,
      "outputs": []
    },
    {
      "cell_type": "code",
      "source": [
        "# Generate word cloud for TV show descriptions\n",
        "generate_word_cloud(tv_shows_descriptions, title=\"Word Cloud for TV Show Descriptions\")"
      ],
      "metadata": {
        "id": "rwsRzQ_MCSl1"
      },
      "execution_count": null,
      "outputs": []
    },
    {
      "cell_type": "markdown",
      "source": [
        "##### 1. Why did you pick the specific chart?"
      ],
      "metadata": {
        "id": "gCFgpxoyphqP"
      }
    },
    {
      "cell_type": "markdown",
      "source": [
        "Word clouds are suitable for visualizing text data, such as movie descriptions and TV show descriptions, in an intuitive and visually appealing manner. They allow us to identify the most frequent words or themes in the text, which can be helpful for understanding the common attributes or topics associated with the content. Word clouds are particularly effective for capturing the essence of textual data and quickly gaining insights into the most prevalent terms."
      ],
      "metadata": {
        "id": "TVxDimi2phqP"
      }
    },
    {
      "cell_type": "markdown",
      "source": [
        "##### 2. What is/are the insight(s) found from the chart?"
      ],
      "metadata": {
        "id": "OVtJsKN_phqQ"
      }
    },
    {
      "cell_type": "markdown",
      "source": [
        "* From the word cloud for movie descriptions, we observed that words like \"life,\" \"find,\" \"love,\" \"family,\" \"new,\" \"woman,\" and \"two\" are the most frequently occurring words. These terms suggest that movies on Netflix may frequently revolve around themes related to life experiences, relationships, and new beginnings.\n",
        "\n",
        "* From the word cloud for TV show descriptions, we noticed that words like \"life,\" \"new,\" \"world,\" \"love,\" \"live,\" \"series,\" and \"find\" are the most frequently occurring words. This indicates that TV shows often feature themes related to various life aspects, exploration of new worlds, love stories, and ongoing series."
      ],
      "metadata": {
        "id": "ngGi97qjphqQ"
      }
    },
    {
      "cell_type": "markdown",
      "source": [
        "##### 3. Will the gained insights help creating a positive business impact?\n",
        "Are there any insights that lead to negative growth? Justify with specific reason."
      ],
      "metadata": {
        "id": "lssrdh5qphqQ"
      }
    },
    {
      "cell_type": "markdown",
      "source": [
        "* Improve content recommendations: Netflix can leverage the insights to better match user preferences with relevant content, enhancing the personalized content recommendation system.\n",
        "* Optimize marketing strategies: The most prevalent themes and keywords can guide marketing strategies to target specific audience segments and create engaging promotional campaigns.\n",
        "* Content creation and acquisition: Understanding popular themes can help Netflix focus on producing or acquiring content that aligns with viewers' preferences, leading to increased viewership and engagement.\n",
        "* Improve user engagement: By offering content that resonates with users, Netflix can enhance user engagement and retention on the platform."
      ],
      "metadata": {
        "id": "tBpY5ekJphqQ"
      }
    },
    {
      "cell_type": "markdown",
      "source": [
        "#### Chart - 10 - Correlation Heatmap"
      ],
      "metadata": {
        "id": "NC_X3p0fY2L0"
      }
    },
    {
      "cell_type": "code",
      "source": [
        "# Filter the DataFrame to include only numeric columns for correlation analysis\n",
        "numeric_columns = df.select_dtypes(include=['int64', 'float64'])\n",
        "\n",
        "# Calculate the correlation matrix\n",
        "correlation_matrix = numeric_columns.corr()\n",
        "\n",
        "# Set up the matplotlib figure\n",
        "plt.figure(figsize=(10, 8))\n",
        "\n",
        "# Define a custom color palette\n",
        "custom_palette = sns.diverging_palette(220, 10, as_cmap=True)\n",
        "\n",
        "# Create the heatmap with annotations\n",
        "sns.heatmap(correlation_matrix, cmap=custom_palette, annot=True, fmt='.2f', linewidths=0.5)\n",
        "\n",
        "# Customize the plot\n",
        "plt.title('Correlation Heatmap for Netflix Dataset', fontsize=16, fontweight='bold')\n",
        "plt.xticks(fontsize=10, rotation=45, ha='right')\n",
        "plt.yticks(fontsize=10)\n",
        "plt.tight_layout()\n",
        "\n",
        "# Add background color\n",
        "ax = plt.gca()\n",
        "ax.set_facecolor('#f9f9f9')\n",
        "\n",
        "# Show the plot\n",
        "plt.show()\n"
      ],
      "metadata": {
        "id": "xyC9zolEZNRQ"
      },
      "execution_count": null,
      "outputs": []
    },
    {
      "cell_type": "markdown",
      "source": [
        "## ***5. Feature Engineering & Data Pre-processing***"
      ],
      "metadata": {
        "id": "yLjJCtPM0KBk"
      }
    },
    {
      "cell_type": "markdown",
      "source": [
        "### 1. Handling Outliers"
      ],
      "metadata": {
        "id": "id1riN9m0vUs"
      }
    },
    {
      "cell_type": "code",
      "source": [
        "# Custom color palette\n",
        "custom_palette = sns.color_palette(\"Set2\")\n",
        "\n",
        "# Plotting a violin plot and a dist plot side by side\n",
        "fig, ax = plt.subplots(1, 2, figsize=(12, 5))\n",
        "\n",
        "# Violin plot for release_year\n",
        "sns.violinplot(x=df['release_year'], ax=ax[0], palette=custom_palette)\n",
        "ax[0].set_title('Distribution of Release Year', fontsize=14, fontweight='bold')\n",
        "ax[0].set_xlabel('Release Year', fontsize=12, fontweight='bold')\n",
        "ax[0].set_ylabel('Density', fontsize=12, fontweight='bold')\n",
        "\n",
        "# Dist plot for release_year\n",
        "sns.histplot(x=df['release_year'], ax=ax[1], kde=True, color=custom_palette[2])\n",
        "ax[1].set_title('Distribution Plot of Release Year', fontsize=14, fontweight='bold')\n",
        "ax[1].set_xlabel('Release Year', fontsize=12, fontweight='bold')\n",
        "ax[1].set_ylabel('Frequency', fontsize=12, fontweight='bold')\n",
        "\n",
        "# Remove top and right spines\n",
        "sns.despine()\n",
        "\n",
        "# Adjust plot layout\n",
        "plt.tight_layout()\n",
        "\n",
        "# Show the plots\n",
        "plt.show()"
      ],
      "metadata": {
        "id": "r321VAL9QPht"
      },
      "execution_count": null,
      "outputs": []
    },
    {
      "cell_type": "code",
      "source": [
        "# Calculate the IQR for 'release_year'\n",
        "Q1 = df['release_year'].quantile(0.25)\n",
        "Q3 = df['release_year'].quantile(0.75)\n",
        "IQR = Q3 - Q1\n",
        "\n",
        "# Calculate the lower and upper bounds\n",
        "lower_bound = Q1 - 1.5 * IQR\n",
        "upper_bound = Q3 + 1.5 * IQR\n",
        "\n",
        "# Replace the outliers with the lower or upper bounds\n",
        "df['release_year'] = df['release_year'].apply(lambda x: lower_bound if x < lower_bound else (upper_bound if x > upper_bound else x))\n",
        "\n",
        "# Custom color palette\n",
        "custom_palette = sns.color_palette(\"Set2\")\n",
        "\n",
        "# Plotting a violin plot and a dist plot side by side\n",
        "fig, ax = plt.subplots(1, 2, figsize=(12, 5))\n",
        "\n",
        "# Violin plot for release_year after handling outliers\n",
        "sns.violinplot(x=df['release_year'], ax=ax[0], palette=custom_palette)\n",
        "ax[0].set_title('Distribution of Release Year (After Handling Outliers)', fontsize=14, fontweight='bold')\n",
        "ax[0].set_xlabel('Release Year', fontsize=12, fontweight='bold')\n",
        "ax[0].set_ylabel('Density', fontsize=12, fontweight='bold')\n",
        "\n",
        "# Dist plot for release_year after handling outliers\n",
        "sns.histplot(x=df['release_year'], ax=ax[1], kde=True, color=custom_palette[2])\n",
        "ax[1].set_title('Distribution Plot of Release Year (After Handling Outliers)', fontsize=14, fontweight='bold')\n",
        "ax[1].set_xlabel('Release Year', fontsize=12, fontweight='bold')\n",
        "ax[1].set_ylabel('Frequency', fontsize=12, fontweight='bold')\n",
        "\n",
        "# Remove top and right spines\n",
        "sns.despine()\n",
        "\n",
        "# Adjust plot layout\n",
        "plt.tight_layout()\n",
        "\n",
        "# Show the plots\n",
        "plt.show()\n"
      ],
      "metadata": {
        "id": "decxUxE-WtuU"
      },
      "execution_count": null,
      "outputs": []
    },
    {
      "cell_type": "markdown",
      "source": [
        "### 2. Attribute selection"
      ],
      "metadata": {
        "id": "89xtkJwZ18nB"
      }
    },
    {
      "cell_type": "code",
      "source": [
        "df.fillna('',inplace=True)"
      ],
      "metadata": {
        "id": "eK9hruV_ZPrp"
      },
      "execution_count": null,
      "outputs": []
    },
    {
      "cell_type": "code",
      "source": [
        "df['cluster'] = (df['director'] + ' ' + df['cast'] +' ' + df['country'] +' ' + df['listed_in'] +' ' + df['description'])\n",
        "df['cluster'][0]"
      ],
      "metadata": {
        "id": "21JmIYMG2hEo"
      },
      "execution_count": null,
      "outputs": []
    },
    {
      "cell_type": "markdown",
      "source": [
        "### 3. Removing stop words"
      ],
      "metadata": {
        "id": "Iwf50b-R2tYG"
      }
    },
    {
      "cell_type": "code",
      "source": [
        "import nltk\n",
        "nltk.download('stopwords')\n",
        "\n",
        "from nltk.corpus import stopwords\n",
        "sw = stopwords.words('english')\n",
        "np.array(sw)"
      ],
      "metadata": {
        "id": "GNxzmsRaamuE"
      },
      "execution_count": null,
      "outputs": []
    },
    {
      "cell_type": "code",
      "source": [
        "def stopwords(text):\n",
        "    text = [word.lower() for word in text.split() if word.lower() not in sw]\n",
        "    return \" \".join(text)"
      ],
      "metadata": {
        "id": "UHrBhCwuaqyd"
      },
      "execution_count": null,
      "outputs": []
    },
    {
      "cell_type": "code",
      "source": [
        "# Removing stop words\n",
        "df['cluster'] = df['cluster'].apply(stopwords)\n",
        "df['cluster'][0]"
      ],
      "metadata": {
        "id": "SaSpFDPubKyv"
      },
      "execution_count": null,
      "outputs": []
    },
    {
      "cell_type": "markdown",
      "source": [
        "### 4. Removing Punctuations"
      ],
      "metadata": {
        "id": "-oLEiFgy-5Pf"
      }
    },
    {
      "cell_type": "code",
      "source": [
        "import string\n",
        "# function to remove punctuations\n",
        "def remove_punctuation(text):\n",
        "    translator = str.maketrans('', '', string.punctuation)\n",
        "    return text.translate(translator)\n",
        "\n",
        "# Applying the remove_punctuation function to the 'cluster' column\n",
        "df['cluster'] = df['cluster'].apply(remove_punctuation)\n",
        "print(df['cluster'][0])  # Printing the updated 'cluster' column value after removing punctuations"
      ],
      "metadata": {
        "id": "cEOsmlb6bj2r"
      },
      "execution_count": null,
      "outputs": []
    },
    {
      "cell_type": "markdown",
      "source": [
        "### 5. Removing non- ASCII characters\n"
      ],
      "metadata": {
        "id": "TNVZ9zx19K6k"
      }
    },
    {
      "cell_type": "code",
      "source": [
        "# function to remove non-ASCII characters and punctuations\n",
        "def remove_non_ascii(text):\n",
        "    # Remove non-ASCII characters\n",
        "    ascii_text = ''.join(char for char in text if ord(char) < 128)\n",
        "\n",
        "    # Remove punctuations\n",
        "    translator = str.maketrans('', '', string.punctuation)\n",
        "    return ascii_text.translate(translator)\n",
        "\n",
        "# Applying the remove_non_ascii function to the 'cluster' column\n",
        "df['cluster'] = df['cluster'].apply(remove_non_ascii)\n",
        "print(df['cluster'][0])  # Printing the updated 'cluster' column value after removing non-ASCII characters and punctuations"
      ],
      "metadata": {
        "id": "GZjJ_PJGcTtP"
      },
      "execution_count": null,
      "outputs": []
    },
    {
      "cell_type": "markdown",
      "source": [
        "### 6. Lemmatization"
      ],
      "metadata": {
        "id": "rMDnDkt2B6du"
      }
    },
    {
      "cell_type": "code",
      "source": [
        "import nltk\n",
        "nltk.download('wordnet')"
      ],
      "metadata": {
        "id": "QeT8JuPkc2PW"
      },
      "execution_count": null,
      "outputs": []
    },
    {
      "cell_type": "code",
      "source": [
        "# function to lemmatize the corpus\n",
        "def lemmatize_verbs(words):\n",
        "    lemmatizer = WordNetLemmatizer()\n",
        "    lemmas = []\n",
        "    for word in words:\n",
        "        lemma = lemmatizer.lemmatize(word, pos='v')\n",
        "        lemmas.append(lemma)\n",
        "    return lemmas"
      ],
      "metadata": {
        "id": "dL9LWpySC6x_"
      },
      "execution_count": null,
      "outputs": []
    },
    {
      "cell_type": "code",
      "source": [
        "# Lemmatization\n",
        "df['cluster'] = lemmatize_verbs(df['cluster'])\n",
        "df['cluster'][0]"
      ],
      "metadata": {
        "id": "C6nGCLrvdgU4"
      },
      "execution_count": null,
      "outputs": []
    },
    {
      "cell_type": "markdown",
      "source": [
        "### 7. Tokenization"
      ],
      "metadata": {
        "id": "1UUpS68QDMuG"
      }
    },
    {
      "cell_type": "code",
      "source": [
        "tokenizer = TweetTokenizer()\n",
        "df['cluster'] = df['cluster'].apply(lambda x: tokenizer.tokenize(x))\n",
        "df['cluster'][0]"
      ],
      "metadata": {
        "id": "8JTcujXBeiUQ"
      },
      "execution_count": null,
      "outputs": []
    },
    {
      "cell_type": "markdown",
      "source": [
        "### 8. Vectorization"
      ],
      "metadata": {
        "id": "BhH2vgX9EjGr"
      }
    },
    {
      "cell_type": "code",
      "source": [
        "# clustering tokens saved in a variable\n",
        "clustering_data = df['cluster']"
      ],
      "metadata": {
        "id": "9Pl-qdAuj29-"
      },
      "execution_count": null,
      "outputs": []
    },
    {
      "cell_type": "code",
      "source": [
        "# Tokenization\n",
        "def identity_tokenizer(text):\n",
        "    return text\n",
        "\n",
        "# Using TFIDF vectorizer to vectorize the corpus\n",
        "tfidf = TfidfVectorizer(tokenizer=identity_tokenizer, stop_words='english', lowercase=False,max_features = 20000)\n",
        "X = tfidf.fit_transform(clustering_data)"
      ],
      "metadata": {
        "id": "hqNdYNqngbHI"
      },
      "execution_count": null,
      "outputs": []
    },
    {
      "cell_type": "code",
      "source": [
        "X.shape"
      ],
      "metadata": {
        "id": "nwErdlP1kTjc"
      },
      "execution_count": null,
      "outputs": []
    },
    {
      "cell_type": "code",
      "source": [
        "# convert X into array form for clustering\n",
        "X = X.toarray()"
      ],
      "metadata": {
        "id": "yzPzOGhh_p10"
      },
      "execution_count": null,
      "outputs": []
    },
    {
      "cell_type": "markdown",
      "source": [
        "##### What data splitting ratio have you used and why?"
      ],
      "metadata": {
        "id": "qjKvONjwE8ra"
      }
    },
    {
      "cell_type": "markdown",
      "source": [
        "Answer Here."
      ],
      "metadata": {
        "id": "Y2lJ8cobFDb_"
      }
    },
    {
      "cell_type": "markdown",
      "source": [
        "### 9. Dimensionality reduction"
      ],
      "metadata": {
        "id": "P1XJ9OREExlT"
      }
    },
    {
      "cell_type": "code",
      "source": [
        "# using PCA to reduce dimensionality\n",
        "pca = PCA(random_state=20)\n",
        "pca.fit(X)"
      ],
      "metadata": {
        "id": "U03jfQaB_tIu"
      },
      "execution_count": null,
      "outputs": []
    },
    {
      "cell_type": "code",
      "source": [
        "# Explained variance for different number of components\n",
        "plt.figure(figsize=(8,5))\n",
        "plt.plot(np.cumsum(pca.explained_variance_ratio_))\n",
        "plt.title('PCA - CUMULATIVE EXPLAINED VARIANCE VS NUMBER OF COMPONENTS')\n",
        "plt.xlabel('no of components')\n",
        "plt.ylabel('cumulative explained variance')"
      ],
      "metadata": {
        "id": "_LZKLkMrC_0e"
      },
      "execution_count": null,
      "outputs": []
    },
    {
      "cell_type": "code",
      "source": [
        "# reducing the dimensions to 3400 using pca\n",
        "pca = PCA(n_components=3400,random_state=20)\n",
        "pca.fit(X)"
      ],
      "metadata": {
        "id": "pKCHbOzzDC_3"
      },
      "execution_count": null,
      "outputs": []
    },
    {
      "cell_type": "code",
      "source": [
        "# transformed features\n",
        "x_pca = pca.transform(X)"
      ],
      "metadata": {
        "id": "QMNET6q2DDhs"
      },
      "execution_count": null,
      "outputs": []
    },
    {
      "cell_type": "code",
      "source": [
        "# shape of transformed vectors\n",
        "x_pca.shape"
      ],
      "metadata": {
        "id": "-Ia4w1K8DGuJ"
      },
      "execution_count": null,
      "outputs": []
    },
    {
      "cell_type": "markdown",
      "source": [
        "## ***6. ML Model Implementation***"
      ],
      "metadata": {
        "id": "VfCC591jGiD4"
      }
    },
    {
      "cell_type": "markdown",
      "source": [
        "### ML Model - 1"
      ],
      "metadata": {
        "id": "OB4l2ZhMeS1U"
      }
    },
    {
      "cell_type": "code",
      "source": [
        "wcss = []\n",
        "for i in range(1, 12):\n",
        "    kmeans = KMeans(n_clusters=i, init='k-means++', random_state=20)\n",
        "    kmeans.fit(x_pca)\n",
        "    wcss_iter = kmeans.inertia_\n",
        "    wcss.append(wcss_iter)\n",
        "\n",
        "number_clusters = range(1, 12)\n",
        "plt.figure(figsize=(8, 5))\n",
        "plt.plot(number_clusters, wcss)\n",
        "plt.title('The Elbow Method - KMeans clustering')\n",
        "plt.xlabel('Number of clusters')\n",
        "plt.ylabel('WCSS')\n",
        "\n",
        "# Find the elbow point (optimal number of clusters)\n",
        "best_elbow = np.argmin(wcss) + 1\n",
        "\n",
        "# Annotate the plot with an arrow pointing to the best elbow value\n",
        "plt.annotate(f'Optimal K = {best_elbow}', xy=(best_elbow, wcss[best_elbow - 1]),\n",
        "             xytext=(best_elbow + 1, wcss[best_elbow - 1] + 200),\n",
        "             arrowprops=dict(facecolor='black', arrowstyle='->'),\n",
        "             fontsize=12, fontweight='bold')\n",
        "\n",
        "plt.show()\n"
      ],
      "metadata": {
        "id": "7ebyywQieS1U"
      },
      "execution_count": null,
      "outputs": []
    },
    {
      "cell_type": "code",
      "source": [
        "from sklearn.metrics import silhouette_score\n",
        "from sklearn.cluster import KMeans\n",
        "import matplotlib.pyplot as plt\n",
        "\n",
        "# Initialize an empty list to store silhouette scores\n",
        "silhouette_scores = []\n",
        "\n",
        "# Range of number of clusters to try\n",
        "k_range = range(2, 11)\n",
        "\n",
        "# Compute silhouette score for each number of clusters\n",
        "for k in k_range:\n",
        "    kmeans = KMeans(n_clusters=k, init='k-means++', random_state=20)\n",
        "    kmeans.fit(x_pca)\n",
        "    labels = kmeans.labels_\n",
        "    silhouette_avg = silhouette_score(x_pca, labels)\n",
        "    silhouette_scores.append(silhouette_avg)\n",
        "\n",
        "# Find the best silhouette score and its corresponding index\n",
        "best_score = max(silhouette_scores)\n",
        "best_index = silhouette_scores.index(best_score) + 2  # Adding 2 to start from k=2\n",
        "\n",
        "# Plotting the Silhouette scores\n",
        "plt.figure(figsize=(8, 5))\n",
        "plt.plot(k_range, silhouette_scores, marker='o')\n",
        "plt.title('Silhouette Score for KMeans Clustering')\n",
        "plt.xlabel('Number of Clusters (K)')\n",
        "plt.ylabel('Silhouette Score')\n",
        "plt.xticks(k_range)\n",
        "plt.grid(True)\n",
        "\n",
        "# Annotate the best silhouette score with an arrow\n",
        "plt.annotate(f\"Best K = {best_index}\\nSilhouette Score = {best_score:.2f}\",\n",
        "             xy=(best_index, best_score),\n",
        "             xytext=(best_index , best_score - 0.003),  # Adjusting the text position\n",
        "             arrowprops=dict(arrowstyle=\"->\", color=\"red\", linewidth=1.5))\n",
        "\n",
        "plt.show()\n"
      ],
      "metadata": {
        "id": "Qq4uLsQ3KF4t"
      },
      "execution_count": null,
      "outputs": []
    },
    {
      "cell_type": "code",
      "source": [
        "# Initialize the KMeans model\n",
        "kmeans = KMeans(n_clusters=5, init='k-means++', random_state=20)\n",
        "\n",
        "# Fit the KMeans model to the data\n",
        "kmeans.fit(x_pca)\n"
      ],
      "metadata": {
        "id": "Vawona5lYZ5z"
      },
      "execution_count": null,
      "outputs": []
    },
    {
      "cell_type": "code",
      "source": [
        "# Calculate inertia\n",
        "inertia = kmeans.inertia_\n",
        "\n",
        "# Calculate silhouette score\n",
        "labels = kmeans.labels_\n",
        "silhouette_avg = silhouette_score(x_pca, labels)\n",
        "\n",
        "# Plot the Inertia and Silhouette Score\n",
        "plt.figure(figsize=(8, 5))\n",
        "bars = plt.bar(['Inertia', 'Silhouette Score'], [inertia, silhouette_avg], color=['blue', 'green'])\n",
        "plt.title('KMeans Model Evaluation Metrics')\n",
        "plt.ylabel('Value')\n",
        "plt.grid(True)\n",
        "\n",
        "# Add values above each bar\n",
        "for bar in bars:\n",
        "    height = bar.get_height()\n",
        "    plt.text(bar.get_x() + bar.get_width() / 2, height, f'{height:.2f}', ha='center', va='bottom')\n",
        "\n",
        "plt.show()\n",
        "\n"
      ],
      "metadata": {
        "id": "A7JqoebmZhGJ"
      },
      "execution_count": null,
      "outputs": []
    },
    {
      "cell_type": "code",
      "source": [
        "# Adding a kmeans cluster number attribute\n",
        "df['kmeans_cluster'] = kmeans.labels_"
      ],
      "metadata": {
        "id": "unux1_jHa1PO"
      },
      "execution_count": null,
      "outputs": []
    },
    {
      "cell_type": "code",
      "source": [
        "# Define a custom color palette\n",
        "custom_palette = ['#00203FFF', '#ADEFD1FF']\n",
        "\n",
        "# Plotting the countplot with the custom palette\n",
        "plt.figure(figsize=(10, 6))\n",
        "ax = sns.countplot(x='kmeans_cluster', data=df, hue='type', palette=custom_palette)\n",
        "\n",
        "# Set the title, xlabel, and ylabel\n",
        "plt.title('Number of Movies and TV Shows in Each Cluster - KMeans Clustering', fontsize=14, fontweight='bold')\n",
        "plt.xlabel('Cluster', fontsize=12, fontweight='bold')\n",
        "plt.ylabel('Count', fontsize=12, fontweight='bold')\n",
        "\n",
        "# Set the legend and its title\n",
        "plt.legend(title='Type', loc='upper right', labels=['Movies', 'TV Shows'])\n",
        "\n",
        "# Remove the top and right spines\n",
        "sns.despine()\n",
        "\n",
        "# Show the plot\n",
        "plt.tight_layout()\n",
        "plt.show()\n"
      ],
      "metadata": {
        "id": "sxny4NIfcr0J"
      },
      "execution_count": null,
      "outputs": []
    },
    {
      "cell_type": "markdown",
      "source": [
        "#### 1. Explain the ML Model used and it's performance using Evaluation metric Score Chart."
      ],
      "metadata": {
        "id": "ArJBuiUVfxKd"
      }
    },
    {
      "cell_type": "code",
      "source": [
        "# Visualizing evaluation Metric Score chart"
      ],
      "metadata": {
        "id": "rqD5ZohzfxKe"
      },
      "execution_count": null,
      "outputs": []
    },
    {
      "cell_type": "markdown",
      "source": [
        "#### 2. Cross- Validation & Hyperparameter Tuning"
      ],
      "metadata": {
        "id": "4qY1EAkEfxKe"
      }
    },
    {
      "cell_type": "code",
      "source": [
        "# ML Model - 1 Implementation with hyperparameter optimization techniques (i.e., GridSearch CV, RandomSearch CV, Bayesian Optimization etc.)\n",
        "\n",
        "# Fit the Algorithm\n",
        "\n",
        "# Predict on the model"
      ],
      "metadata": {
        "id": "Dy61ujd6fxKe"
      },
      "execution_count": null,
      "outputs": []
    },
    {
      "cell_type": "markdown",
      "source": [
        "##### Which hyperparameter optimization technique have you used and why?"
      ],
      "metadata": {
        "id": "PiV4Ypx8fxKe"
      }
    },
    {
      "cell_type": "markdown",
      "source": [
        "Answer Here."
      ],
      "metadata": {
        "id": "negyGRa7fxKf"
      }
    },
    {
      "cell_type": "markdown",
      "source": [
        "##### Have you seen any improvement? Note down the improvement with updates Evaluation metric Score Chart."
      ],
      "metadata": {
        "id": "TfvqoZmBfxKf"
      }
    },
    {
      "cell_type": "markdown",
      "source": [
        "Answer Here."
      ],
      "metadata": {
        "id": "OaLui8CcfxKf"
      }
    },
    {
      "cell_type": "markdown",
      "source": [
        "### ML Model - 2"
      ],
      "metadata": {
        "id": "dJ2tPlVmpsJ0"
      }
    },
    {
      "cell_type": "code",
      "source": [
        "# Define the figure size\n",
        "plt.figure(figsize=(12, 8))\n",
        "\n",
        "# Plot the dendrogram\n",
        "dend = shc.dendrogram(shc.linkage(x_pca, method='ward'), color_threshold=5, above_threshold_color='gray')\n",
        "\n",
        "# Set the title, xlabel, and ylabel\n",
        "plt.title('Dendrogram - Hierarchical Clustering', fontsize=14, fontweight='bold')\n",
        "plt.xlabel('Netflix Shows', fontsize=12, fontweight='bold')\n",
        "plt.ylabel('Distance', fontsize=12, fontweight='bold')\n",
        "\n",
        "# Add a horizontal line to indicate the threshold for the number of clusters\n",
        "plt.axhline(y=4, color='r', linestyle='--', label='Cluster Threshold')\n",
        "\n",
        "# Customize the colors and styles of the dendrogram\n",
        "plt.axhline(y=30, color='gray', linestyle='dashed', linewidth=0.5)\n",
        "plt.axhline(y=40, color='gray', linestyle='dashed', linewidth=0.5)\n",
        "\n",
        "# Customize the legend\n",
        "plt.legend(loc='upper right', fontsize=10)\n",
        "\n",
        "# Remove the top and right spines\n",
        "sns.despine()\n",
        "\n",
        "# Show the plot\n",
        "plt.tight_layout()\n",
        "plt.show()\n"
      ],
      "metadata": {
        "id": "H-2PbnekmbUC"
      },
      "execution_count": null,
      "outputs": []
    },
    {
      "cell_type": "markdown",
      "source": [
        "At a distance of 4 units, 11 clusters can be built using the agglomerative clustering algorithm."
      ],
      "metadata": {
        "id": "XrGLOPXoqlNC"
      }
    },
    {
      "cell_type": "code",
      "source": [
        "# Initialize the AgglomerativeClustering model\n",
        "hierarchical = AgglomerativeClustering(n_clusters=11, affinity='euclidean', linkage='ward')\n",
        "\n",
        "# Fit and predict the clusters\n",
        "hierarchical_clusters = hierarchical.fit_predict(x_pca)"
      ],
      "metadata": {
        "id": "XZtdmdtlqnEt"
      },
      "execution_count": null,
      "outputs": []
    },
    {
      "cell_type": "code",
      "source": [
        "# Adding a kmeans cluster number attribute\n",
        "df['hierarchical_cluster'] = hierarchical.labels_"
      ],
      "metadata": {
        "id": "vLexX3RRsd96"
      },
      "execution_count": null,
      "outputs": []
    },
    {
      "cell_type": "code",
      "source": [
        "# Define a custom color palette\n",
        "custom_palette = ['#00203FFF', '#ADEFD1FF']\n",
        "\n",
        "# Plotting the countplot with the custom palette\n",
        "plt.figure(figsize=(10, 6))\n",
        "sns.countplot(x='hierarchical_cluster', data=df, hue='type', palette=custom_palette)\n",
        "\n",
        "# Set the title, xlabel, and ylabel\n",
        "plt.title('Number of Movies and TV Shows in Each Cluster - Hierarchical Clustering', fontsize=14, fontweight='bold')\n",
        "plt.xlabel('Cluster', fontsize=12, fontweight='bold')\n",
        "plt.ylabel('Count', fontsize=12, fontweight='bold')\n",
        "\n",
        "# Set the legend and its title\n",
        "plt.legend(title='Type', loc='upper right', labels=['Movies', 'TV Shows'])\n",
        "\n",
        "# Remove the top and right spines\n",
        "sns.despine()\n",
        "\n",
        "# Adjust plot layout\n",
        "plt.tight_layout()\n",
        "\n",
        "# Show the plot\n",
        "plt.show()\n"
      ],
      "metadata": {
        "id": "PWadpxNcsfFi"
      },
      "execution_count": null,
      "outputs": []
    },
    {
      "cell_type": "markdown",
      "source": [
        "#### 1. Explain the ML Model used and it's performance using Evaluation metric Score Chart."
      ],
      "metadata": {
        "id": "JWYfwnehpsJ1"
      }
    },
    {
      "cell_type": "code",
      "source": [
        "# Visualizing evaluation Metric Score chart"
      ],
      "metadata": {
        "id": "yEl-hgQWpsJ1"
      },
      "execution_count": null,
      "outputs": []
    },
    {
      "cell_type": "markdown",
      "source": [
        "#### 2. Cross- Validation & Hyperparameter Tuning"
      ],
      "metadata": {
        "id": "-jK_YjpMpsJ2"
      }
    },
    {
      "cell_type": "code",
      "source": [
        "# ML Model - 1 Implementation with hyperparameter optimization techniques (i.e., GridSearch CV, RandomSearch CV, Bayesian Optimization etc.)\n",
        "\n",
        "# Fit the Algorithm\n",
        "\n",
        "# Predict on the model"
      ],
      "metadata": {
        "id": "Dn0EOfS6psJ2"
      },
      "execution_count": null,
      "outputs": []
    },
    {
      "cell_type": "markdown",
      "source": [
        "##### Which hyperparameter optimization technique have you used and why?"
      ],
      "metadata": {
        "id": "HAih1iBOpsJ2"
      }
    },
    {
      "cell_type": "markdown",
      "source": [
        "Answer Here."
      ],
      "metadata": {
        "id": "9kBgjYcdpsJ2"
      }
    },
    {
      "cell_type": "markdown",
      "source": [
        "##### Have you seen any improvement? Note down the improvement with updates Evaluation metric Score Chart."
      ],
      "metadata": {
        "id": "zVGeBEFhpsJ2"
      }
    },
    {
      "cell_type": "markdown",
      "source": [
        "Answer Here."
      ],
      "metadata": {
        "id": "74yRdG6UpsJ3"
      }
    },
    {
      "cell_type": "markdown",
      "source": [
        "#### 3. Explain each evaluation metric's indication towards business and the business impact pf the ML model used."
      ],
      "metadata": {
        "id": "bmKjuQ-FpsJ3"
      }
    },
    {
      "cell_type": "markdown",
      "source": [
        "Answer Here."
      ],
      "metadata": {
        "id": "BDKtOrBQpsJ3"
      }
    },
    {
      "cell_type": "markdown",
      "source": [
        "### 1. Which Evaluation metrics did you consider for a positive business impact and why?"
      ],
      "metadata": {
        "id": "h_CCil-SKHpo"
      }
    },
    {
      "cell_type": "markdown",
      "source": [
        "Answer Here."
      ],
      "metadata": {
        "id": "jHVz9hHDKFms"
      }
    },
    {
      "cell_type": "markdown",
      "source": [
        "### 2. Which ML model did you choose from the above created models as your final prediction model and why?"
      ],
      "metadata": {
        "id": "cBFFvTBNJzUa"
      }
    },
    {
      "cell_type": "markdown",
      "source": [
        "Answer Here."
      ],
      "metadata": {
        "id": "6ksF5Q1LKTVm"
      }
    },
    {
      "cell_type": "markdown",
      "source": [
        "### 3. Explain the model which you have used and the feature importance using any model explainability tool?"
      ],
      "metadata": {
        "id": "HvGl1hHyA_VK"
      }
    },
    {
      "cell_type": "markdown",
      "source": [
        "Answer Here."
      ],
      "metadata": {
        "id": "YnvVTiIxBL-C"
      }
    },
    {
      "cell_type": "markdown",
      "source": [
        "## **7. Content based recommender system**"
      ],
      "metadata": {
        "id": "NaulI1ufjTJo"
      }
    },
    {
      "cell_type": "code",
      "source": [
        "# Changing the index of the df from show id to show title\n",
        "df['show_id'] = df.index"
      ],
      "metadata": {
        "id": "nlf1JpMpjTJt"
      },
      "execution_count": null,
      "outputs": []
    },
    {
      "cell_type": "code",
      "source": [
        "# Function to convert tokens to string\n",
        "def convert_tokens_to_string(tokens_list):\n",
        "    return ' '.join(tokens_list)\n",
        "\n",
        "df['cluster'] = df['cluster'].apply(lambda x: convert_tokens_to_string(x))\n"
      ],
      "metadata": {
        "id": "g0sTtfQhjTJt"
      },
      "execution_count": null,
      "outputs": []
    },
    {
      "cell_type": "code",
      "source": [
        "# setting title of movies/Tv shows as index\n",
        "df.set_index('title',inplace=True)"
      ],
      "metadata": {
        "id": "t8qjj0apjTJt"
      },
      "execution_count": null,
      "outputs": []
    },
    {
      "cell_type": "code",
      "source": [
        "# Count vectorizer\n",
        "cv = CountVectorizer()\n",
        "converted_matrix = cv.fit_transform(df['cluster'])"
      ],
      "metadata": {
        "id": "psPe3gw_jTJt"
      },
      "execution_count": null,
      "outputs": []
    },
    {
      "cell_type": "code",
      "source": [
        "# Cosine similarity\n",
        "cosine_similarity = cosine_similarity(converted_matrix)"
      ],
      "metadata": {
        "id": "v1NvOg4BjTJu"
      },
      "execution_count": null,
      "outputs": []
    },
    {
      "cell_type": "code",
      "source": [
        "def recommend_top10(title, cosine_sim=cosine_similarity, df=df):\n",
        "    try:\n",
        "        if title not in df.index:\n",
        "            raise ValueError(\"Title not found in the DataFrame.\")\n",
        "\n",
        "        recommend_content = []\n",
        "        idx = df.index.get_loc(title)\n",
        "        series = pd.Series(cosine_sim[idx]).sort_values(ascending=False)\n",
        "        top10 = list(series.iloc[1:11].index)\n",
        "\n",
        "        # List with the titles of the best 10 matching movies\n",
        "        for i in top10:\n",
        "            recommend_content.append(df.index[i])\n",
        "\n",
        "        print(f\"If you like this '{title}', you may also enjoy:\\n\")\n",
        "        return recommend_content\n",
        "\n",
        "    except ValueError as e:\n",
        "        return str(e)\n"
      ],
      "metadata": {
        "id": "gZ3idSHNjTJu"
      },
      "execution_count": null,
      "outputs": []
    },
    {
      "cell_type": "code",
      "source": [
        "# Recommendations for 'Agneepath'\n",
        "recommend_top10('Agneepath')"
      ],
      "metadata": {
        "id": "hfJ3Vxb2jzil"
      },
      "execution_count": null,
      "outputs": []
    },
    {
      "cell_type": "code",
      "source": [
        "# Recommendations for 'Breaking bad'\n",
        "recommend_top10('Breaking Bad')"
      ],
      "metadata": {
        "id": "p-7W6nXXjTJu"
      },
      "execution_count": null,
      "outputs": []
    },
    {
      "cell_type": "code",
      "source": [
        "# Recommendations for 'Stranger Things'\n",
        "recommend_top10('Stranger Things')"
      ],
      "metadata": {
        "id": "cyKHd57zjrYs"
      },
      "execution_count": null,
      "outputs": []
    },
    {
      "cell_type": "markdown",
      "source": [
        "### ***Congrats! Your model is successfully created and ready for deployment on a live server for a real user interaction !!!***"
      ],
      "metadata": {
        "id": "14KZ0YiljTJu"
      }
    },
    {
      "cell_type": "markdown",
      "source": [
        "# **Conclusion**"
      ],
      "metadata": {
        "id": "gCX9965dhzqZ"
      }
    },
    {
      "cell_type": "markdown",
      "source": [
        "Write the conclusion here."
      ],
      "metadata": {
        "id": "Fjb1IsQkh3yE"
      }
    },
    {
      "cell_type": "markdown",
      "source": [
        "### ***Hurrah! You have successfully completed your Machine Learning Capstone Project !!!***"
      ],
      "metadata": {
        "id": "gIfDvo9L0UH2"
      }
    }
  ]
}